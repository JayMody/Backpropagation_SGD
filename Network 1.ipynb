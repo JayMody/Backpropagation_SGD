{
 "cells": [
  {
   "cell_type": "markdown",
   "metadata": {},
   "source": [
    "# A Simple Example\n",
    "---\n",
    "\n",
    "## Feed Forward\n"
   ]
  },
  {
   "cell_type": "code",
   "execution_count": 6,
   "metadata": {},
   "outputs": [],
   "source": [
    "# Imports\n",
    "import numpy as np\n",
    "\n",
    "# Activation functions\n",
    "def sigmoid(x):\n",
    "    return 1 / (1 - np.exp(x))\n",
    "def d_sigmoid(x):\n",
    "    return x*(1-x)"
   ]
  },
  {
   "cell_type": "code",
   "execution_count": null,
   "metadata": {},
   "outputs": [],
   "source": [
    "# Weight and Bias Initialization\n",
    "weights = np.random.normal(loc = 0., scale = 1/2, size = (3))\n",
    "biases = np.array([0., 0., 0.])"
   ]
  },
  {
   "cell_type": "code",
   "execution_count": 8,
   "metadata": {},
   "outputs": [],
   "source": [
    "# Feed Forward\n",
    "def feed_forward(X):\n",
    "    outputs = []\n",
    "    \n",
    "    h1_inputs = X * weights[0] + biases[0]\n",
    "    h1_outputs = sigmoid(h1_inputs)\n",
    "    outputs.append(h1_outputs)\n",
    "    \n",
    "    h2_inputs = h1_outputs * weights[1] + biases[1]\n",
    "    h2_outputs = sigmoid(h2_inputs)\n",
    "    outputs.append(h2_outputs)\n",
    "    \n",
    "    h3_inputs = h2_outputs * weights[2] + biases[2]\n",
    "    h3_outputs = sigmoid(h3_outputs)\n",
    "    outputs.append(h3_outputs)\n",
    "    \n",
    "    return outputs"
   ]
  },
  {
   "cell_type": "code",
   "execution_count": null,
   "metadata": {},
   "outputs": [],
   "source": [
    "def backpropagation(X, y, y_hat, outputs):\n",
    "    weights_gradients = []\n",
    "    bias_gradients = []\n",
    "    \n",
    "    d1 = y - y_hat\n",
    "    d2 = d_sigmoid(outputs[2])\n",
    "    error = d1 * d2\n",
    "    gradients.append()\n",
    "    \n",
    "    d3 = weights[2]"
   ]
  }
 ],
 "metadata": {
  "kernelspec": {
   "display_name": "Python 3",
   "language": "python",
   "name": "python3"
  },
  "language_info": {
   "codemirror_mode": {
    "name": "ipython",
    "version": 3
   },
   "file_extension": ".py",
   "mimetype": "text/x-python",
   "name": "python",
   "nbconvert_exporter": "python",
   "pygments_lexer": "ipython3",
   "version": "3.6.8"
  }
 },
 "nbformat": 4,
 "nbformat_minor": 2
}
