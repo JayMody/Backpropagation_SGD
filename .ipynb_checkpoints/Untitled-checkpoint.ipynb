{
 "cells": [
  {
   "cell_type": "markdown",
   "metadata": {},
   "source": [
    "# Gradient Descent and Backpropagation\n",
    "### Understanding the math behind gradient descent and how to implement backprogagation in python\n",
    "--------------------\n",
    "**Author: Jay Mody**\n",
    "\n",
    "**Required Knowledge:**\n",
    "- Basic Python Skills\n",
    "- Numpy\n",
    "- Calculus (derivatives, gradients, chain rule)\n",
    "- Linear Algebra (matrices, matrix multiplication)"
   ]
  },
  {
   "cell_type": "code",
   "execution_count": null,
   "metadata": {},
   "outputs": [],
   "source": [
    "#### Imports ####\n",
    "import numpy as np"
   ]
  },
  {
   "cell_type": "code",
   "execution_count": null,
   "metadata": {},
   "outputs": [],
   "source": [
    "#### Neural Network Class ####\n",
    "class NeuralNetwork:\n",
    "    ##### Constructor ####\n",
    "    def __init__(self, n_input_nodes, n_hidden_nodes, n_output_nodes, lr):\n",
    "        ## Network ##\n",
    "        self.n_input_nodes = n_input_nodes\n",
    "        self.n_hidden_nodes = n_hidden_nodes\n",
    "        self.n_output_nodes = n_output_nodes\n",
    "        \n",
    "        ## Weights ##\n",
    "        # Weights are typical initialized using a some kind of distribution (random uniform, normal)\n",
    "        # Here im going to use a normal distribution with a standard deviation of 1\n",
    "        self.weights_i_h = np.random.normal(0.0, 1.0, (self.n_input_nodes, self.n_hidden_nodes))\n",
    "        self.weights_h_o = np.random.normal(0.0, 1.0, (self.n_hidden_nodes, self.n_output_nodes))\n",
    "        \n",
    "        ## Learning Rate ##\n",
    "        self.lr = lr\n",
    "        \n",
    "        ## Activation Functions ##\n",
    "        # Relu Activation\n",
    "        self.relu = lamda x: x if x > 0 else 0\n",
    "        self.d_relu = lamda x: 1 if x > 0 else 0\n",
    "            \n",
    "        # Sigmoid Activation\n",
    "        self.sigmoid = lamda x: 1 / (1 + np.exp(-x))\n",
    "        self.d_sigmoid = lamda x: self.sigmoid(x) * (1 - self.sigmoid(x))\n",
    "        \n",
    "    def feed_forward(self, X):\n",
    "        # Hidden Layer\n",
    "        hidden_input = np.dot(X, self.weights_i_h)\n",
    "        hidden_outputs = self.relu(hidden_inputs)\n",
    "        \n",
    "        # Output Layer\n",
    "        y_hat_raw = np.dot(hidden_outputs, self.weights_h_o)\n",
    "        y_hat = self.sigmoid(y_hat_raw)\n",
    "    \n",
    "        return hidden_outputs, y_hat"
   ]
  }
 ],
 "metadata": {
  "kernelspec": {
   "display_name": "Python 3",
   "language": "python",
   "name": "python3"
  },
  "language_info": {
   "codemirror_mode": {
    "name": "ipython",
    "version": 3
   },
   "file_extension": ".py",
   "mimetype": "text/x-python",
   "name": "python",
   "nbconvert_exporter": "python",
   "pygments_lexer": "ipython3",
   "version": "3.6.8"
  }
 },
 "nbformat": 4,
 "nbformat_minor": 2
}
